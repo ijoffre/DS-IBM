{
 "cells": [
  {
   "cell_type": "markdown",
   "id": "d9775aed",
   "metadata": {},
   "source": [
    "# My Jupyter Notebook on IBM Watson Studio"
   ]
  },
  {
   "cell_type": "markdown",
   "id": "c7f71b8d",
   "metadata": {},
   "source": [
    "<b>Isabel Joffre</b><br>\n",
    "Data Scientist"
   ]
  },
  {
   "cell_type": "markdown",
   "id": "01c8e88f",
   "metadata": {},
   "source": [
    "<i> As a software developer with more than 15 years of experience I find very interesting the field of Data Science and how it can impact and improve the business. I am learning so I can take my years of experience and apply my knowledge to help companies understand and use their data.</i>"
   ]
  },
  {
   "cell_type": "markdown",
   "id": "d60399c0",
   "metadata": {},
   "source": [
    "### The following code print outs the adjective of each fruit. "
   ]
  },
  {
   "cell_type": "code",
   "execution_count": 7,
   "id": "4bf59904",
   "metadata": {},
   "outputs": [
    {
     "name": "stdout",
     "output_type": "stream",
     "text": [
      "red apple\n",
      "red banana\n",
      "red cherry\n",
      "big apple\n",
      "big banana\n",
      "big cherry\n",
      "tasty apple\n",
      "tasty banana\n",
      "tasty cherry\n"
     ]
    }
   ],
   "source": [
    "adj = [\"red\", \"big\", \"tasty\"]\n",
    "fruits = [\"apple\", \"banana\", \"cherry\"]\n",
    "\n",
    "for x in adj:\n",
    "  for y in fruits:\n",
    "   print(x, y)"
   ]
  },
  {
   "cell_type": "markdown",
   "id": "81ef43a0",
   "metadata": {},
   "source": [
    "<table>\n",
    "<tr>\n",
    "<th> Fruits </th>\n",
    "<th> Adjectives </th>    \n",
    "</tr>\n",
    "    <tr>\n",
    "       <td>Apple</td>\n",
    "       <td>Red</td>\n",
    "    </tr>\n",
    "    <tr>\n",
    "       <td>Banana</td>\n",
    "       <td>Big</td>\n",
    "    </tr>\n",
    "     <tr>\n",
    "       <td>Cherry</td>\n",
    "       <td>Tasty</td>\n",
    "    </tr>\n",
    "</table>\n",
    "<br>\n",
    "<br>\n",
    "<ul>\n",
    "  <li>Banana</li>\n",
    "  <li>Cherry</li>\n",
    "  <li>Apple</li>\n",
    "</ul>\n",
    "<br>\n",
    "<ol>\n",
    "  <li>Banana</li>\n",
    "  <li>Cherry</li>\n",
    "  <li>Apple</li>\n",
    "</ol>\n"
   ]
  },
  {
   "cell_type": "markdown",
   "id": "44c9e7d1",
   "metadata": {},
   "source": [
    "<img src=\"https://github.com/ijoffre/DS-IBM/blob/89de88606df609f4a967e515ad7a56ff76457858/Banana%20Cherry%20Apple.jpeg?raw=true\" width=\"500\" height=\"333\">"
   ]
  },
  {
   "cell_type": "markdown",
   "id": "5cfd0079",
   "metadata": {},
   "source": [
    "## This is a hyperlink \n",
    "<br> \n",
    "<a href=\"https://www.myplate.gov/eat-healthy/fruits\"><i>Eat more Fruits<i/></a>"
   ]
  },
  {
   "cell_type": "markdown",
   "id": "50b395d6",
   "metadata": {},
   "source": [
    "<p><s>I hate fruits</s></p>\n",
    "<p>I LOVE FRUITS!</p>"
   ]
  },
  {
   "cell_type": "code",
   "execution_count": null,
   "id": "90ed0996",
   "metadata": {},
   "outputs": [],
   "source": []
  }
 ],
 "metadata": {
  "kernelspec": {
   "display_name": "Python 3 (ipykernel)",
   "language": "python",
   "name": "python3"
  },
  "language_info": {
   "codemirror_mode": {
    "name": "ipython",
    "version": 3
   },
   "file_extension": ".py",
   "mimetype": "text/x-python",
   "name": "python",
   "nbconvert_exporter": "python",
   "pygments_lexer": "ipython3",
   "version": "3.9.12"
  }
 },
 "nbformat": 4,
 "nbformat_minor": 5
}
